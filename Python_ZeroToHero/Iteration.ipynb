{
 "cells": [
  {
   "cell_type": "code",
   "execution_count": 1,
   "metadata": {},
   "outputs": [
    {
     "name": "stdout",
     "output_type": "stream",
     "text": [
      "['Bricks', 'Cement', 40]\n"
     ]
    }
   ],
   "source": [
    "materials = [\n",
    "    \"Bricks\",\n",
    "    \"Cement\",\n",
    "    40\n",
    "]\n",
    "print(materials)"
   ]
  },
  {
   "cell_type": "code",
   "execution_count": 4,
   "metadata": {},
   "outputs": [
    {
     "name": "stdout",
     "output_type": "stream",
     "text": [
      "Bricks\n",
      "<class 'str'>\n",
      "Cement\n",
      "<class 'str'>\n",
      "40\n",
      "<class 'int'>\n"
     ]
    }
   ],
   "source": [
    "for i in range (0, len(materials)):\n",
    "    print(materials[i])\n",
    "    print(type(materials[i]))"
   ]
  },
  {
   "cell_type": "code",
   "execution_count": 6,
   "metadata": {},
   "outputs": [
    {
     "name": "stdout",
     "output_type": "stream",
     "text": [
      "{'name': 'Pratik', 'course': 'Computer', 'age': 24}\n"
     ]
    }
   ],
   "source": [
    "dictionary = {\n",
    "    \"name\" : \"Pratik\",\n",
    "    \"course\" : \"Computer\",\n",
    "    \"age\" : 24\n",
    "}\n",
    "print(dictionary)"
   ]
  },
  {
   "cell_type": "code",
   "execution_count": 8,
   "metadata": {},
   "outputs": [
    {
     "name": "stdout",
     "output_type": "stream",
     "text": [
      "Key is : name and value is : Pratik\n",
      "Key is : course and value is : Computer\n",
      "Key is : age and value is : 24\n"
     ]
    }
   ],
   "source": [
    "for i in dictionary:\n",
    "    print(\"Key is : %s and value is : %s\" %(i,dictionary[i]))"
   ]
  },
  {
   "cell_type": "code",
   "execution_count": 9,
   "metadata": {},
   "outputs": [
    {
     "name": "stdout",
     "output_type": "stream",
     "text": [
      "name --> Pratik\n",
      "course --> Computer\n",
      "age --> 24\n"
     ]
    }
   ],
   "source": [
    "for key,value in dictionary.items():\n",
    "    print(\"%s --> %s\" %(key,value))"
   ]
  },
  {
   "cell_type": "code",
   "execution_count": null,
   "metadata": {},
   "outputs": [],
   "source": []
  }
 ],
 "metadata": {
  "kernelspec": {
   "display_name": "Python 3",
   "language": "python",
   "name": "python3"
  },
  "language_info": {
   "codemirror_mode": {
    "name": "ipython",
    "version": 3
   },
   "file_extension": ".py",
   "mimetype": "text/x-python",
   "name": "python",
   "nbconvert_exporter": "python",
   "pygments_lexer": "ipython3",
   "version": "3.7.3"
  }
 },
 "nbformat": 4,
 "nbformat_minor": 2
}
